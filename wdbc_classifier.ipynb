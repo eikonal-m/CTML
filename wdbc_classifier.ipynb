{
 "cells": [
  {
   "cell_type": "markdown",
   "metadata": {},
   "source": [
    "\n",
    "# Challenge 1: Breast Cancer Dataset EDA\n",
    "###    - WDBC data set analysis\n",
    "\n",
    "<br>\n",
    "\n",
    "  Script to download, read in and analyse breast cancer dataset from the \n",
    "[UCI machine learning repository:](https://archive.ics.uci.edu/ml/datasets/Breast+Cancer+Wisconsin+%28Prognostic%29)\n",
    "  \n",
    " <br>\n",
    " \n",
    "  @author: mikeyrobinson@hotmail.com\n",
    " \n",
    " <br>\n",
    "  \n",
    "#### versions of libraries used\n",
    "...........................\n",
    "<ul>\n",
    "    <li>numpy          1.19.2</li> \n",
    "<li>matplotlib     3.3.2</li>\n",
    "<li>pandas         1.1.3</li>\n",
    "<li>scikit-learn   0.23.2</li>\n",
    "<li>scipy          1.5.2</li>\n",
    "</ul>\n",
    "\n",
    "..........................."
   ]
  },
  {
   "cell_type": "code",
   "execution_count": 2,
   "metadata": {},
   "outputs": [],
   "source": [
    "# Modules\n",
    "import pandas as pd\n",
    "import numpy as np\n",
    "from scipy import stats\n",
    "import matplotlib.pyplot as plt\n",
    "# Pre-processing and prediction\n",
    "from sklearn.preprocessing import MinMaxScaler\n",
    "from sklearn.model_selection import cross_val_score, cross_val_predict, train_test_split\n",
    "from sklearn.metrics import confusion_matrix, precision_recall_curve, plot_precision_recall_curve\n",
    "from sklearn.metrics import accuracy_score, precision_score, recall_score, f1_score\n",
    "# ML Models tested\n",
    "from sklearn.svm import SVC\n",
    "from sklearn.tree import DecisionTreeClassifier"
   ]
  },
  {
   "cell_type": "markdown",
   "metadata": {},
   "source": [
    "### Data link proivded:"
   ]
  },
  {
   "cell_type": "code",
   "execution_count": 3,
   "metadata": {},
   "outputs": [],
   "source": [
    "data_url = \"https://archive.ics.uci.edu/ml/machine-learning-databases/breast-cancer-wisconsin/wdbc.data\""
   ]
  },
  {
   "cell_type": "markdown",
   "metadata": {},
   "source": [
    "### Create dataframe from \"wdbc\" dataset.  \n",
    "####  - have entered header manually from information in file \"wdbc.names\" lines 111-126"
   ]
  },
  {
   "cell_type": "code",
   "execution_count": 4,
   "metadata": {},
   "outputs": [],
   "source": [
    "header_orig = [\"ID\",\"diagnosis\"]\n",
    "header_repeat = [\n",
    "    \"radius\",\n",
    "    \"texture\",\n",
    "    \"perimeter\",\n",
    "    \"area\",\n",
    "    \"smoothness\",\n",
    "    \"compactness\",\n",
    "    \"concavity\",\n",
    "    \"concave_points\",\n",
    "    \"symmetry\",\n",
    "    \"fractal_dimension\"\n",
    "    ]\n",
    "\n",
    "header_set1 = [x + \"_mean\" for x in header_repeat]  #mean \n",
    "header_set2 = [x + \"_SE\" for x in header_repeat]    #standard error\n",
    "header_set3 = [x + \"_worst\" for x in header_repeat] #worst or largest\n",
    "\n",
    "header = header_orig + header_set1 + header_set2 + header_set3"
   ]
  },
  {
   "cell_type": "markdown",
   "metadata": {},
   "source": [
    "### Get data from data source & include header\n",
    "#### - preview data and check dataset dimensions"
   ]
  },
  {
   "cell_type": "code",
   "execution_count": 6,
   "metadata": {},
   "outputs": [
    {
     "name": "stdout",
     "output_type": "stream",
     "text": [
      "         ID diagnosis  radius_mean  texture_mean  perimeter_mean  area_mean  \\\n",
      "0    842302         M        17.99         10.38          122.80     1001.0   \n",
      "1    842517         M        20.57         17.77          132.90     1326.0   \n",
      "2  84300903         M        19.69         21.25          130.00     1203.0   \n",
      "3  84348301         M        11.42         20.38           77.58      386.1   \n",
      "4  84358402         M        20.29         14.34          135.10     1297.0   \n",
      "\n",
      "   smoothness_mean  compactness_mean  concavity_mean  concave_points_mean  \\\n",
      "0          0.11840           0.27760          0.3001              0.14710   \n",
      "1          0.08474           0.07864          0.0869              0.07017   \n",
      "2          0.10960           0.15990          0.1974              0.12790   \n",
      "3          0.14250           0.28390          0.2414              0.10520   \n",
      "4          0.10030           0.13280          0.1980              0.10430   \n",
      "\n",
      "   ...  radius_worst  texture_worst  perimeter_worst  area_worst  \\\n",
      "0  ...         25.38          17.33           184.60      2019.0   \n",
      "1  ...         24.99          23.41           158.80      1956.0   \n",
      "2  ...         23.57          25.53           152.50      1709.0   \n",
      "3  ...         14.91          26.50            98.87       567.7   \n",
      "4  ...         22.54          16.67           152.20      1575.0   \n",
      "\n",
      "   smoothness_worst  compactness_worst  concavity_worst  concave_points_worst  \\\n",
      "0            0.1622             0.6656           0.7119                0.2654   \n",
      "1            0.1238             0.1866           0.2416                0.1860   \n",
      "2            0.1444             0.4245           0.4504                0.2430   \n",
      "3            0.2098             0.8663           0.6869                0.2575   \n",
      "4            0.1374             0.2050           0.4000                0.1625   \n",
      "\n",
      "   symmetry_worst  fractal_dimension_worst  \n",
      "0          0.4601                  0.11890  \n",
      "1          0.2750                  0.08902  \n",
      "2          0.3613                  0.08758  \n",
      "3          0.6638                  0.17300  \n",
      "4          0.2364                  0.07678  \n",
      "\n",
      "[5 rows x 32 columns]\n",
      "The total dimensions of this dataset are: (569, 32)\n"
     ]
    }
   ],
   "source": [
    "df = pd.read_csv(data_url,names=header)\n",
    "\n",
    "print(df.head())     \n",
    "print(\"The total dimensions of this dataset are: {}\".format(df.shape))\n"
   ]
  },
  {
   "cell_type": "markdown",
   "metadata": {},
   "source": [
    "### Check for any missing or null data points"
   ]
  },
  {
   "cell_type": "code",
   "execution_count": 7,
   "metadata": {},
   "outputs": [
    {
     "name": "stdout",
     "output_type": "stream",
     "text": [
      "Pass: null and NaN test show dataset is complete\n"
     ]
    }
   ],
   "source": [
    "null_test = sum(df.isnull().sum())\n",
    "nan_test = sum(df.isna().sum())\n",
    "\n",
    "if null_test > 0 or nan_test > 0:\n",
    "    print(\"Warning: Null test shows there are the following bad data points: \", null_test)\n",
    "    print(\"Warning: Not-A-Number test shows there are the following bad data points: \", nan_test)\n",
    "elif null_test == 0 and nan_test == 0:\n",
    "    print(\"Pass: null and NaN test show dataset is complete\")"
   ]
  },
  {
   "cell_type": "markdown",
   "metadata": {},
   "source": [
    "## 1a. Calculate statistics for the perimeter data\n",
    "    - Only interested in the perimeter_mean data (i.e. standard error and worst have not been analysed)"
   ]
  },
  {
   "cell_type": "code",
   "execution_count": 8,
   "metadata": {},
   "outputs": [
    {
     "name": "stdout",
     "output_type": "stream",
     "text": [
      "......................................... \n",
      "perimeter mean is:                67.503 \n",
      "perimeter median is:              86.240 \n",
      "perimeter standard deviation is:  37.525 \n",
      ".........................................\n"
     ]
    }
   ],
   "source": [
    "perim_stats = df.agg({\"perimeter_mean\": [\"mean\", \"median\", \"std\"]})\n",
    "\n",
    "# print stats to screen\n",
    "print(\".........................................\", \"\\n\"\n",
    "      \"perimeter mean is:               \", \"%.3f\" %perim_stats.mean(), \"\\n\"\n",
    "      \"perimeter median is:             \", \"%.3f\" %perim_stats.median(), \"\\n\"\n",
    "      \"perimeter standard deviation is: \", \"%.3f\" %perim_stats.std(), \"\\n\"\n",
    "      \".........................................\"\n",
    "      )"
   ]
  },
  {
   "cell_type": "markdown",
   "metadata": {},
   "source": [
    "## 1b. Determine if the \"radius\" is normally distributed\n",
    "     - calculate statistics and plot radius data to establish if it is normally distributed"
   ]
  },
  {
   "cell_type": "markdown",
   "metadata": {},
   "source": [
    "<p style=\"color:red; font-size: 13px;\"> If we make the assumption that the radius is directly proportional to the perimeter, \n",
    "then we could state that the dataset is skewed due to the difference between the mean and the median.\n",
    "However we should look at the radius statistics to be sure that this is actually the case. </p>\n"
   ]
  },
  {
   "cell_type": "code",
   "execution_count": 9,
   "metadata": {},
   "outputs": [
    {
     "name": "stdout",
     "output_type": "stream",
     "text": [
      "radius mean is:.................  14.127 \n",
      "radius median is:...............  13.370 \n",
      "radius standard deviation is:...  3.524 \n",
      "radius mode is:.................  12.340 \n",
      "radius skewness is:.............  0.942\n"
     ]
    },
    {
     "data": {
      "image/png": "[encoded data removed]",
      "text/plain": [
       "<Figure size 432x288 with 1 Axes>"
      ]
     },
     "metadata": {
      "needs_background": "light"
     },
     "output_type": "display_data"
    },
    {
     "name": "stdout",
     "output_type": "stream",
     "text": [
      "The histogram and statistics are showing that the distribution is skewed to the left and \n",
      "therefore, is not normally distributed.  This is described by the skewness statistic ~1, \n",
      "meaning the data is moderately skewed.  From studying the plot it is more likely that \n",
      "the distribution is bi-modal.  \n",
      "\n",
      "The 1st mode being ~ from radius 7 to 17, the second mode ~ from 17 to 22. \n",
      "\n",
      "There are outliers beyond 22, however there is not enough data to determine if these would develop\n",
      "into a third mode (i.e. to make multimodal)\n"
     ]
    }
   ],
   "source": [
    "statTest = 'radius_mean'\n",
    "rad_mode = stats.mode(df[statTest])\n",
    "rad_stats = df[\"radius_mean\"].agg([\"min\", \"max\", \"mean\", \"median\", \"skew\",\"std\"])\n",
    "rad_rng = rad_stats[1] - rad_stats[0]                                    \n",
    "\n",
    "print(\"radius mean is:................. \", \"%.3f\" %rad_stats[2], \"\\n\"\n",
    "      \"radius median is:............... \", \"%.3f\" %rad_stats[3], \"\\n\"\n",
    "      \"radius standard deviation is:... \", \"%.3f\" %rad_stats[5], \"\\n\"\n",
    "      \"radius mode is:................. \", \"%.3f\" %rad_mode[0], \"\\n\"\n",
    "      \"radius skewness is:............. \", \"%.3f\" %rad_stats[4]\n",
    "      )\n",
    "\n",
    "plt.hist(df[statTest], bins=2*int(rad_rng))\n",
    "plt.xlim(np.floor(rad_stats[0]),np.ceil(rad_stats[1]))\n",
    "plt.title('Histogram of the ' + statTest)\n",
    "plt.xlabel(statTest)\n",
    "plt.ylabel('Count')\n",
    "plt.show()\n",
    "\n",
    "print(\"\"\"The histogram and statistics are showing that the distribution is skewed to the left and \n",
    "therefore, is not normally distributed.  This is described by the skewness statistic ~1, \n",
    "meaning the data is moderately skewed.  From studying the plot it is more likely that \n",
    "the distribution is bi-modal.  \n",
    "\n",
    "The 1st mode being ~ from radius 7 to 17, the second mode ~ from 17 to 22. \n",
    "\n",
    "There are outliers beyond 22, however there is not enough data to determine if these would develop\n",
    "into a third mode (i.e. to make multimodal)\"\"\"\n",
    "     )"
   ]
  },
  {
   "cell_type": "markdown",
   "metadata": {},
   "source": [
    "## 1c. Train a classifier to predict the diagnosis of malignant or benign. \n",
    "#### Compare the results of two classifiers e.g. SVM, logistic regression, decision tree etc.\n",
    " - Sort data for training and check the balance of the classifications"
   ]
  },
  {
   "cell_type": "code",
   "execution_count": 18,
   "metadata": {},
   "outputs": [
    {
     "name": "stdout",
     "output_type": "stream",
     "text": [
      "Number of benign to malignent cases is:  357 vs 212 \n",
      "Therefore benign is  59 % of the dataset \n",
      "The entropy is:  0.660 which is considered relatively well balanced based on 0=unbalanced, 1=balanced \n",
      "therefore no further resampling/balancing of the data is necessary\n"
     ]
    }
   ],
   "source": [
    "# Create numpy array for training/testing from dataframe, drop unwanted columns\n",
    "X = np.array(df.drop(['diagnosis', 'ID'],1))\n",
    "\n",
    "# convert benign/malignent to binary\n",
    "class_change = {'M': 1,'B': 0}\n",
    "y = [class_change[item] for item in df['diagnosis']]\n",
    "y = np.array(y,dtype=np.float32)\n",
    "\n",
    "# check balance of \"classification\" dataset using Entropy\n",
    "y_series = pd.Series(y)\n",
    "y_counts = y_series.value_counts()\n",
    "y_perc = y_counts[1] / y_counts[0] * 100\n",
    "y_entropy = stats.entropy(y_counts)\n",
    "\n",
    "print(\"Number of benign to malignent cases is: \", \n",
    "      \"%0.0f\" %y_counts[0], \"vs\", \"%0.0f\" %y_counts[1], \"\\n\"\n",
    "      \"Therefore, benign is \", \"%0.0f\" %y_perc, \"% of the dataset\", \"\\n\"\n",
    "      \"The entropy is: \", \"%0.3f\" %y_entropy,\n",
    "      \"which is considered relatively well balanced based on 0=unbalanced, 1=balanced \\n\"\n",
    "      \"therefore no further resampling/balancing of the data is necessary\"\n",
    "      )"
   ]
  },
  {
   "cell_type": "markdown",
   "metadata": {},
   "source": [
    "#### Preprocessing to normalise data between 0 and 1 and setup Train/Test split of data"
   ]
  },
  {
   "cell_type": "code",
   "execution_count": 11,
   "metadata": {},
   "outputs": [],
   "source": [
    "# preprocessing - normalise data between 0 and 1\n",
    "scaler = MinMaxScaler()\n",
    "scaler.fit(X)\n",
    "X_norm = scaler.transform(X)\n",
    "# generate train and test data from dataframe train test split based on 80/20\n",
    "X_train, X_test, y_train, y_test = train_test_split(X_norm, y, test_size=0.2, random_state=42)"
   ]
  },
  {
   "cell_type": "markdown",
   "metadata": {},
   "source": [
    "#### Setup linear SVM classification using cross validate to split train/test data 'x' times\n",
    "- for small datasets SVC is fine, can use LinearSVC for larger data"
   ]
  },
  {
   "cell_type": "code",
   "execution_count": 31,
   "metadata": {},
   "outputs": [
    {
     "name": "stdout",
     "output_type": "stream",
     "text": [
      "running cross validation 5 times on training data gives fitting scores of: \n",
      "  [0.98901099 0.96703297 0.98901099 0.97802198 0.96703297] \n",
      "...with 0.978 mean accuracy and standard deviation of 0.01 \n",
      "this is using a soft-margin for fitting of 1.00: \n"
     ]
    }
   ],
   "source": [
    "# set up linear hyperplane with a relatively large soft-margin (C=1)\n",
    "margin = 1  #try 0.1, 1, 10 etc\n",
    "clf_its = 5  #try out different numbers of cross_val iterations (e.g. 2 to 10)\n",
    "clf = SVC(kernel='linear', C=margin, random_state=42) #for small datasets SVC is fine \n",
    "#clf = LinearSVC(C=margin)  #can use LinearSVC for larger datasets\n",
    "scores_svc = cross_val_score(clf, X_train, y_train, scoring=\"accuracy\", cv=clf_its)\n",
    "y_train_prediction_svc = cross_val_predict(clf, X_train, y_train, cv=clf_its)\n",
    "\n",
    "print(\"running cross validation %d times on training data gives fitting scores of:\" % clf_its, \"\\n\"\n",
    "      \" \",  scores_svc, \"\\n\"\n",
    "      \"...with %0.3f mean accuracy and standard deviation of %0.2f\" % (scores_svc.mean(), scores_svc.std()), \"\\n\"\n",
    "      \"this is using a soft-margin for fitting of %0.2f: \" %margin\n",
    "      )"
   ]
  },
  {
   "cell_type": "code",
   "execution_count": 34,
   "metadata": {},
   "outputs": [
    {
     "name": "stdout",
     "output_type": "stream",
     "text": [
      "accuracy of the SVM test classification is: 0.982 \n",
      " \n",
      "Therefore, comparing the SVM training and test accuracy we have: \n",
      "Training accuracy = 0.978 \n",
      "Test accuracy     = 0.982\n",
      "-----------------------------------------------------------\n",
      " Confusion matrix for SVC model is: \n",
      " [[285   1]\n",
      " [  9 160]] \n",
      " Precision is equal to:  0.994 \n",
      " Recall is equal to:  0.947 \n",
      " F1 score is equal to:  0.970\n"
     ]
    },
    {
     "data": {
      "image/png": "[encoded data removed]",
      "text/plain": [
       "<Figure size 432x288 with 1 Axes>"
      ]
     },
     "metadata": {
      "needs_background": "light"
     },
     "output_type": "display_data"
    }
   ],
   "source": [
    "#### now fit predicted to training dataset\n",
    "clf.fit(X_train, y_train)\n",
    "\n",
    "prediction_svc = clf.predict(X_test)\n",
    "accuracy_svc = accuracy_score(prediction_svc, y_test)\n",
    "\n",
    "print(\"accuracy of the SVM test classification is: %0.3f\" %accuracy_svc, \"\\n\", \"\\n\"\n",
    "      \"Therefore, comparing the SVM training and test accuracy we have: \\n\"\n",
    "      \"Training accuracy = %0.3f\" %scores_svc.mean(), \"\\n\"\n",
    "      \"Test accuracy     = %0.3f\" %accuracy_svc)\n",
    "\n",
    "#confuse_matrix = confusion_matrix(y_test, y_prediction)\n",
    "confuse_matrix_svc = confusion_matrix(y_train, y_train_prediction_svc)\n",
    "\n",
    "precision_svc = precision_score(y_train, y_train_prediction_svc)\n",
    "recall_svc = recall_score(y_train, y_train_prediction_svc)\n",
    "f1_svc = f1_score(y_train, y_train_prediction_svc)\n",
    "\n",
    "print(\"-----------------------------------------------------------\\n\",\n",
    "      \"Confusion matrix for SVC model is: \\n\", confuse_matrix_svc, \"\\n\"\n",
    "      \" Precision is equal to: \", \"%0.3f\" %precision_svc, \"\\n\"\n",
    "      \" Recall is equal to: \", \"%0.3f\" %recall_svc, \"\\n\"\n",
    "      \" F1 score is equal to: \", \"%0.3f\" %f1_svc\n",
    "      )\n",
    "\n",
    "disp = plot_precision_recall_curve(clf, X_test, y_test)"
   ]
  },
  {
   "cell_type": "markdown",
   "metadata": {},
   "source": [
    "#### Setup DecisionTreeClassifier using cross val to split train/test data x times\n"
   ]
  },
  {
   "cell_type": "code",
   "execution_count": 35,
   "metadata": {},
   "outputs": [
    {
     "name": "stdout",
     "output_type": "stream",
     "text": [
      "running cross validation 5 times gives fitting scores of: \n",
      "  [0.91208791 0.9010989  0.96703297 0.91208791 0.93406593] \n",
      "...with 0.93 mean accuracy and standard deviation of 0.02 \n",
      "this is using a maximum depth of: 5 \n"
     ]
    }
   ],
   "source": [
    "# setup classifier and determine max depth and number of cross validation iterations\n",
    "\n",
    "maxDepth = 5 #change from 1 to number of samples -1 (n-1)-although not recommended as will likely overfit\n",
    "             #default max_depth is None, changed to input to see what difference it makes to prediction \n",
    "clf = DecisionTreeClassifier(max_depth=maxDepth, random_state=42) #change max_depth to None to let sklearn decide\n",
    "clf_its = 5\n",
    "scores_dtc = cross_val_score(clf, X_train, y_train, scoring=\"accuracy\", cv=clf_its)\n",
    "y_train_prediction_dtc = cross_val_predict(clf, X_train, y_train, cv=clf_its)\n",
    "\n",
    "print(\"running cross validation %d times gives fitting scores of:\" % clf_its, \"\\n\"\n",
    "      \" \",  scores_dtc, \"\\n\"\n",
    "      \"...with %0.2f mean accuracy and standard deviation of %0.2f\" % (scores_dtc.mean(), scores_dtc.std()), \"\\n\"\n",
    "      \"this is using a maximum depth of: %0.0f \" %maxDepth\n",
    "      )"
   ]
  },
  {
   "cell_type": "code",
   "execution_count": 36,
   "metadata": {},
   "outputs": [
    {
     "name": "stdout",
     "output_type": "stream",
     "text": [
      "Accuracy of the Decision Tree test classification is: 0.947 \n",
      "\n",
      " Therefore, comparing Decision Tree training and test accuracy we have: \n",
      "Training accuracy = 0.925 \n",
      "Test accuracy     = 0.947\n",
      "----------------------------------------------------------------- \n",
      "Confusion matrix for DecisionTree model is: \n",
      " [[271  15]\n",
      " [ 19 150]] \n",
      " Precision is equal to:  0.909 \n",
      " Recall is equal to:  0.888 \n",
      " F1 score is equal to:  0.898\n"
     ]
    },
    {
     "data": {
      "image/png": "[encoded data removed]",
      "text/plain": [
       "<Figure size 432x288 with 1 Axes>"
      ]
     },
     "metadata": {
      "needs_background": "light"
     },
     "output_type": "display_data"
    }
   ],
   "source": [
    "#### now fit predicted to training dataset\n",
    "clf.fit(X_train, y_train)\n",
    "\n",
    "prediction_dtc = clf.predict(X_test)\n",
    "accuracy_dtc = accuracy_score(prediction_dtc, y_test)\n",
    "\n",
    "print(\"Accuracy of the Decision Tree test classification is: %0.3f\" %accuracy_dtc, \"\\n\\n\",\n",
    "      \"Therefore, comparing Decision Tree training and test accuracy we have: \\n\"\n",
    "      \"Training accuracy = %0.3f\" %scores_dtc.mean(), \"\\n\"\n",
    "      \"Test accuracy     = %0.3f\" %accuracy_dtc)\n",
    "\n",
    "#confuse_matrix = confusion_matrix(y_test, y_prediction)\n",
    "confuse_matrix_dtc = confusion_matrix(y_train, y_train_prediction_dtc)\n",
    "\n",
    "precision_dtc = precision_score(y_train, y_train_prediction_dtc)\n",
    "recall_dtc = recall_score(y_train, y_train_prediction_dtc)\n",
    "f1_dtc = f1_score(y_train, y_train_prediction_dtc)\n",
    "\n",
    "print(\"-----------------------------------------------------------------\", \"\\n\"\n",
    "      \"Confusion matrix for DecisionTree model is: \\n\", confuse_matrix_dtc, \"\\n\"\n",
    "      \" Precision is equal to: \", \"%0.3f\" %precision_dtc, \"\\n\"\n",
    "      \" Recall is equal to: \", \"%0.3f\" %recall_dtc, \"\\n\"\n",
    "      \" F1 score is equal to: \", \"%0.3f\" %f1_dtc\n",
    "      )\n",
    "\n",
    "disp = plot_precision_recall_curve(clf, X_test, y_test)"
   ]
  },
  {
   "cell_type": "markdown",
   "metadata": {},
   "source": [
    "### Conclusion:"
   ]
  },
  {
   "cell_type": "markdown",
   "metadata": {},
   "source": [
    "<p style=\"color:red; font-size: 15px;\">By simple comparison of the confusion matrix of the two classifiers it\n",
    "appears as if the linear Support Vector classifier is better at predicting \n",
    "malignent vs benign tumors due to its smaller size of false positives and \n",
    "false negatives. This is also shown in the higher levels of prediction \n",
    "accuracy from the training/test sets. </p>"
   ]
  }
 ],
 "metadata": {
  "kernelspec": {
   "display_name": "Python 3",
   "language": "python",
   "name": "python3"
  },
  "language_info": {
   "codemirror_mode": {
    "name": "ipython",
    "version": 3
   },
   "file_extension": ".py",
   "mimetype": "text/x-python",
   "name": "python",
   "nbconvert_exporter": "python",
   "pygments_lexer": "ipython3",
   "version": "3.8.5"
  }
 },
 "nbformat": 4,
 "nbformat_minor": 4
}
